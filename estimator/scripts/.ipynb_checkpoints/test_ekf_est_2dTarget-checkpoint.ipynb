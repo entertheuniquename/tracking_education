{
 "cells": [
  {
   "cell_type": "code",
   "execution_count": 1,
   "metadata": {},
   "outputs": [],
   "source": [
    "import numpy as np\n",
    "import numpy.matlib as ml\n",
    "import matplotlib.pyplot as plt\n",
    "import math\n",
    "from IPython.display import display, Math, Latex\n",
    "from IPython.display import Markdown as md\n",
    "from arr2ltx import convert2latex, to_latex\n",
    "\n",
    "import estimator as e\n",
    "import math"
   ]
  },
  {
   "cell_type": "markdown",
   "metadata": {},
   "source": [
    "### Один цикл алгоритма расширенного фильтра Калмана\n",
    "Initialize:<br>\n",
    "$\\hspace{8mm}x_{0 \\mid 0}, P_{0 \\mid 0}$<br>\n",
    "Predict:<br>\n",
    "$\\hspace{8mm}x_{k+1 \\mid k}=f\\left(x_{k \\mid k}, u^k\\right) $<br>\n",
    "$\\hspace{8mm}P_{k+1 \\mid k}=F_k^{(x)} P_{k \\mid k} F_k^{(x) T}+F^{(v)} Q_k F^{(v) T}$<br>\n",
    "$\\hspace{8mm}z_{k+1 \\mid k}=h\\left(x_{k+1 \\mid k}\\right)$<br>\n",
    "Update:<br>\n",
    "$\\hspace{8mm}S_{k+1}=H_{k+1}^{(x)} P_{k+1 \\mid k} H_{k+1}^{(x) T}+H^{(w)} R_{k+1} H^{(w) T}$<br>\n",
    "$\\hspace{8mm}K_{k+1}=P_{k+1 \\mid k} H_{k+1}^T S_{k+1}^{-1}$<br>\n",
    "$\\hspace{8mm}x_{k+1 \\mid k+1}=x_{k+1 \\mid k}+K_{k+1}\\left(z_{k+1}-z_{k+1 \\mid k}\\right)$<br>\n",
    "$\\hspace{8mm}P_{k+1 \\mid k+1}=P_{k+1 \\mid k}-K_{k+1} S_{k+1} K_{k+1}^T$<br>\n",
    "$\\hspace{8mm}z_{k+1 \\mid k+1}=h\\left(x_{k+1 \\mid k+1}\\right)$<br>"
   ]
  },
  {
   "cell_type": "markdown",
   "metadata": {},
   "source": [
    "Литература:\n",
    "1. Multitarget-Multisensor Tracking: Principles and Techniques. Y. Bar-Shalom; X. Rong-Li, page 257 [\\[1\\]](multitarget-multisensor-tracking.pdf)\n",
    "2. Fundamentals of Kalman Filtering—A Practical Approach, Second Edition. Paul Zarchan. [\\[2\\]](Fundamentals-of-Kalman-Filtering.pdf)\n",
    "3. A study of QR decomposition and Kalman filter implementations, DAVID FUERTES RONCERO [\\[3\\]](A_study_of_QR_decomposition_and_Kalman_filter_impl.pdf) "
   ]
  },
  {
   "cell_type": "markdown",
   "metadata": {},
   "source": [
    "Расширенный фильтр Калмана (Extended Kalman Filter, EKF) – это расширение стандартного фильтра Калмана, предназначенное для работы с нелинейными динамическими системами.<br><br>\n",
    "Стандартный фильтр Калмана хорошо работает только для линейных систем, где предполагается, что связь между состояниями и измерениями остается линейной. Однако многие реальные системы нелинейны по своей природе, и использование стандартного фильтра Калмана может привести к неточным оценкам.<br><br>\n",
    "Расширенный фильтр Калмана позволяет учитывать нелинейные зависимости между состояниями и измерениями, используя линеаризацию в окрестности текущей оценки состояния. Основная идея заключается в том, чтобы линеаризовать нелинейные функции в уравнениях предсказания и коррекции фильтра Калмана. Это позволяет учитывать нелинейности и более точно оценивать состояние системы.<br><br>\n",
    "Для уменьшение вычислительной сложности алгоритма расширенного фильра Калмана используют QR-разложение. Алгоритм приведён в [\\[3\\]](A_study_of_QR_decomposition_and_Kalman_filter_impl.pdf). \n",
    "Реализация алгоритма расширенного фильтра Калмана на языке С++ c QR-разложением в\n",
    "[ekf.h](./../src/ekf.h)<br><br>\n",
    "Линеаризация нелинейных функций выполняется с использованием матрицы частных производных - Якобиан. Расчёт Якобина происходит методом прямого численного дифференцирования.<br><br>\n"
   ]
  },
  {
   "cell_type": "code",
   "execution_count": 2,
   "metadata": {},
   "outputs": [],
   "source": [
    "xs = np.array(['\\hat{x_{c}}', '\\hat{V_{x}}', '\\hat{y_{c}}', '\\hat{V_{y}}'])\n",
    "xs = xs[:, np.newaxis]\n",
    "zs = np.array(['\\\\alpha^{n}','r^{n}'])\n",
    "zs = zs[:, np.newaxis]\n",
    "xss = np.array(['x_{c}', 'V_{x}', 'y_{c}', 'V_{y}'])\n",
    "xss = xss[:, np.newaxis]\n",
    "Mz  = np.array([['\\\\cos(a)', 0], [0, 1]])\n",
    "Rpos = np.array([['\\\\sqrt{D_{r}}', 0], [0, 'r\\\\sqrt{D_{ \\\\alpha}}']])\n",
    "Pvel = np.array([['100', '0'], ['0', '100']])\n",
    "Hcc = np.array([[1, 0, 0, 0],\n",
    "               [0, 0, 1, 0]])\n",
    "Hvv = np.array([[0, 1, 0, 0],\n",
    "               [0, 0, 0, 1]])\n",
    "\n",
    "x00 = np.array(['r \\cdot cos(\\\\alpha)', '0', 'r \\cdot sin(\\\\alpha)', '0'])\n",
    "x00 = x00[:, np.newaxis] "
   ]
  },
  {
   "cell_type": "code",
   "execution_count": 3,
   "metadata": {},
   "outputs": [],
   "source": [
    "T = 0.2\n",
    "process_var = 0.5\n",
    "\n",
    "R = np.diag([1e-4, 1.0])\n",
    "\n",
    "Qp = np.diag([process_var, process_var])\n",
    "G = np.array([[T**2/2, 0],\n",
    "             [T, 0],\n",
    "             [0, T**2/2],\n",
    "             [0, T]])\n",
    "Q = G@Qp@G.T\n",
    "\n",
    "initialState = np.array([-40., -2., 0., 0.])\n",
    "initialState = initialState[:, np.newaxis]\n",
    "max_speed = 4"
   ]
  },
  {
   "cell_type": "markdown",
   "metadata": {
    "variables": {
     " Math(to_latex(Q)) ": "$\\displaystyle \\begin{bmatrix}\n0.00 & 0.00 & 0.00 & 0.00\\\\\n0.00 & 0.02 & 0.00 & 0.00\\\\\n0.00 & 0.00 & 0.00 & 0.00\\\\\n0.00 & 0.00 & 0.00 & 0.02\n\\end{bmatrix}$",
     " Math(to_latex(R))": "$\\displaystyle \\begin{bmatrix}\n0.00 & 0.00\\\\\n0.00 & 1.00\n\\end{bmatrix}$",
     " Math(to_latex(xs)) ": "$\\displaystyle \\begin{bmatrix}\n\\hat{x_{c}}\\\\\n\\hat{V_{x}}\\\\\n\\hat{y_{c}}\\\\\n\\hat{V_{y}}\n\\end{bmatrix}$",
     " Math(to_latex(zs)) ": "$\\displaystyle \\begin{bmatrix}\n\\alpha^{n}\\\\\nr^{n}\n\\end{bmatrix}$"
    }
   },
   "source": [
    "## Пример\n",
    "Расмотрим пример использования фильтра Калмана для кинематической модели движения второго порядка <br> (с компонетами координат и скоростью) в каждой из двух декартовых координат. Вектор оценки будет из себя представлять:<br>\n",
    "<p style=\"text-align: center;\">$\\hat{x}=${{ Math(to_latex(xs)) }}</p>\n",
    "где $\\hat{x}_{c},\\hat{y}_{c}$-декартовы координаты, $\\hat{V}_{x},\\hat{V}_{y}$-проекции скорости декартовых координат.<br><br>\n",
    "\n",
    "Вектор наблюдений будет из себя представлять:<br>\n",
    "<p style=\"text-align: center;\"> $\\hspace{5mm}z$={{ Math(to_latex(zs)) }}</p>\n",
    "где $\\alpha^{n},r^{n}$-полярные координаты азимут и дальность c добавлением шумов измерения, в моделировании зададим ковариационную матрицу шумов измерений как: <br>\n",
    "<p style=\"text-align: center;\"> $\\hspace{5mm}R$={{ Math(to_latex(R))}}</p>\n",
    "Дисперсии шума процесса зададим:\n",
    "<p style=\"text-align: center;\"> $Q_{k}$={{ Math(to_latex(Q)) }}</p><br><br>\n",
    "«Маленькое» $Q_{k}$ дает движение «почти с постоянной скоростью».<br><br>\n",
    "Зададим что темп поступления входных данных $T$=0.2 секунды.\n"
   ]
  },
  {
   "cell_type": "markdown",
   "metadata": {},
   "source": [
    "## <a id='section_id'></a> Уравнение состояния и наблюдения\n",
    "Динамика ветора состояния и связь вектора наблюдения и вектора состояния описывается функциями в [models.h](./../src/models.h)<br><br>\n",
    "<pre>\n",
    "```cpp\n",
    "template <class M>\n",
    "M stateModel(const M& x, double T) {\n",
    "    M F = {{1, T, 0, 0},\n",
    "           {0, 1, 0, 0},\n",
    "           {0, 0, T, t},\n",
    "           {0, 0, 0, 1}};\n",
    "    return F*x;\n",
    "};\n",
    "\n",
    "template <class M>\n",
    "M measureModel(const M& x, const M& z = M{}) {\n",
    "    double angle = atan2(x(2), x(0));\n",
    "    double range = sqrt(x(0)*x(0) + x(2)*x(2));\n",
    "    if (!z.empty()) {\n",
    "        angle = z(0) + Utils::ComputeAngleDifference(angle, z(0));\n",
    "    }\n",
    "    M r = {angle, range};\n",
    "    return trans(r);\n",
    "};\n",
    "```\n",
    "</pre>"
   ]
  },
  {
   "cell_type": "code",
   "execution_count": 4,
   "metadata": {},
   "outputs": [],
   "source": [
    "def make_true_data(x0):\n",
    "    X = np.zeros((x0.shape[0], 100))\n",
    "    X[:, 0] = x0.T\n",
    "    for i in range(X.shape[1]-1):\n",
    "        xx = e.stateModel(np.copy(X[:, i]), T)\n",
    "        X[:, i+1] = xx.flatten()\n",
    "    return X\n",
    "\n",
    "X=make_true_data(initialState)"
   ]
  },
  {
   "cell_type": "markdown",
   "metadata": {
    "variables": {
     " Math(to_latex(X)) ": "$\\displaystyle \\begin{bmatrix}\n-40.00 & -40.40 & -40.80 & -41.20 & -41.60 & -42.00 & -42.40 & -42.80 & -43.20 & -43.60 & -44.00 & -44.40 & -44.80 & -45.20 & -45.60 & -46.00 & -46.40 & -46.80 & -47.20 & -47.60 & -48.00 & -48.40 & -48.80 & -49.20 & -49.60 & -50.00 & -50.40 & -50.80 & -51.20 & -51.60 & -52.00 & -52.40 & -52.80 & -53.20 & -53.60 & -54.00 & -54.40 & -54.80 & -55.20 & -55.60 & -56.00 & -56.40 & -56.80 & -57.20 & -57.60 & -58.00 & -58.40 & -58.80 & -59.20 & -59.60 & -60.00 & -60.40 & -60.80 & -61.20 & -61.60 & -62.00 & -62.40 & -62.80 & -63.20 & -63.60 & -64.00 & -64.40 & -64.80 & -65.20 & -65.60 & -66.00 & -66.40 & -66.80 & -67.20 & -67.60 & -68.00 & -68.40 & -68.80 & -69.20 & -69.60 & -70.00 & -70.40 & -70.80 & -71.20 & -71.60 & -72.00 & -72.40 & -72.80 & -73.20 & -73.60 & -74.00 & -74.40 & -74.80 & -75.20 & -75.60 & -76.00 & -76.40 & -76.80 & -77.20 & -77.60 & -78.00 & -78.40 & -78.80 & -79.20 & -79.60\\\\\n-2.00 & -2.00 & -2.00 & -2.00 & -2.00 & -2.00 & -2.00 & -2.00 & -2.00 & -2.00 & -2.00 & -2.00 & -2.00 & -2.00 & -2.00 & -2.00 & -2.00 & -2.00 & -2.00 & -2.00 & -2.00 & -2.00 & -2.00 & -2.00 & -2.00 & -2.00 & -2.00 & -2.00 & -2.00 & -2.00 & -2.00 & -2.00 & -2.00 & -2.00 & -2.00 & -2.00 & -2.00 & -2.00 & -2.00 & -2.00 & -2.00 & -2.00 & -2.00 & -2.00 & -2.00 & -2.00 & -2.00 & -2.00 & -2.00 & -2.00 & -2.00 & -2.00 & -2.00 & -2.00 & -2.00 & -2.00 & -2.00 & -2.00 & -2.00 & -2.00 & -2.00 & -2.00 & -2.00 & -2.00 & -2.00 & -2.00 & -2.00 & -2.00 & -2.00 & -2.00 & -2.00 & -2.00 & -2.00 & -2.00 & -2.00 & -2.00 & -2.00 & -2.00 & -2.00 & -2.00 & -2.00 & -2.00 & -2.00 & -2.00 & -2.00 & -2.00 & -2.00 & -2.00 & -2.00 & -2.00 & -2.00 & -2.00 & -2.00 & -2.00 & -2.00 & -2.00 & -2.00 & -2.00 & -2.00 & -2.00\\\\\n0.00 & 0.00 & 0.00 & 0.00 & 0.00 & 0.00 & 0.00 & 0.00 & 0.00 & 0.00 & 0.00 & 0.00 & 0.00 & 0.00 & 0.00 & 0.00 & 0.00 & 0.00 & 0.00 & 0.00 & 0.00 & 0.00 & 0.00 & 0.00 & 0.00 & 0.00 & 0.00 & 0.00 & 0.00 & 0.00 & 0.00 & 0.00 & 0.00 & 0.00 & 0.00 & 0.00 & 0.00 & 0.00 & 0.00 & 0.00 & 0.00 & 0.00 & 0.00 & 0.00 & 0.00 & 0.00 & 0.00 & 0.00 & 0.00 & 0.00 & 0.00 & 0.00 & 0.00 & 0.00 & 0.00 & 0.00 & 0.00 & 0.00 & 0.00 & 0.00 & 0.00 & 0.00 & 0.00 & 0.00 & 0.00 & 0.00 & 0.00 & 0.00 & 0.00 & 0.00 & 0.00 & 0.00 & 0.00 & 0.00 & 0.00 & 0.00 & 0.00 & 0.00 & 0.00 & 0.00 & 0.00 & 0.00 & 0.00 & 0.00 & 0.00 & 0.00 & 0.00 & 0.00 & 0.00 & 0.00 & 0.00 & 0.00 & 0.00 & 0.00 & 0.00 & 0.00 & 0.00 & 0.00 & 0.00 & 0.00\\\\\n0.00 & 0.00 & 0.00 & 0.00 & 0.00 & 0.00 & 0.00 & 0.00 & 0.00 & 0.00 & 0.00 & 0.00 & 0.00 & 0.00 & 0.00 & 0.00 & 0.00 & 0.00 & 0.00 & 0.00 & 0.00 & 0.00 & 0.00 & 0.00 & 0.00 & 0.00 & 0.00 & 0.00 & 0.00 & 0.00 & 0.00 & 0.00 & 0.00 & 0.00 & 0.00 & 0.00 & 0.00 & 0.00 & 0.00 & 0.00 & 0.00 & 0.00 & 0.00 & 0.00 & 0.00 & 0.00 & 0.00 & 0.00 & 0.00 & 0.00 & 0.00 & 0.00 & 0.00 & 0.00 & 0.00 & 0.00 & 0.00 & 0.00 & 0.00 & 0.00 & 0.00 & 0.00 & 0.00 & 0.00 & 0.00 & 0.00 & 0.00 & 0.00 & 0.00 & 0.00 & 0.00 & 0.00 & 0.00 & 0.00 & 0.00 & 0.00 & 0.00 & 0.00 & 0.00 & 0.00 & 0.00 & 0.00 & 0.00 & 0.00 & 0.00 & 0.00 & 0.00 & 0.00 & 0.00 & 0.00 & 0.00 & 0.00 & 0.00 & 0.00 & 0.00 & 0.00 & 0.00 & 0.00 & 0.00 & 0.00\n\\end{bmatrix}$",
     " Math(to_latex(initialState)) ": "$\\displaystyle \\begin{bmatrix}\n-40.00\\\\\n-2.00\\\\\n0.00\\\\\n0.00\n\\end{bmatrix}$",
     " Math(to_latex(xss)) ": "$\\displaystyle \\begin{bmatrix}\nx_{c}\\\\\nV_{x}\\\\\ny_{c}\\\\\nV_{y}\n\\end{bmatrix}$"
    }
   },
   "source": [
    "## Моделирование\n",
    "\n",
    "Для проверки правильности реализации алгоритма и сбора статистики результатов фильтрации линейного фильтра Калмана  выполним моделирование. Моделирование будет состоять следующих этапов: \n",
    "1. Получение траектории движения наблюдаемого обьекта; <br>\n",
    "2. Из трактории движения получим измерения;<br>\n",
    "3. Фильтрация алгоритом Калмана и построение графика для одной реализации;<br>\n",
    "4. Повторение пунтков 1-3 и сбор статистики работы по N экспериментам и построеник графиков.\n",
    "\n",
    "### Получение траектории движения обьекта\n",
    "$x_{k+1}=A_{k}x_{k}$, $\\hspace{5mm}x_{0}$ = {{ Math(to_latex(xss)) }} = {{ Math(to_latex(initialState)) }}\n",
    "<br>\n",
    "<br>\n",
    "$X = ${{ Math(to_latex(X)) }}"
   ]
  },
  {
   "cell_type": "code",
   "execution_count": 5,
   "metadata": {},
   "outputs": [],
   "source": [
    "def add_process_noise(X, Var):\n",
    "    Xn = X + np.sqrt(Var) @ np.random.normal(loc=0, scale=1.0, size=(X.shape[0], X.shape[1]))\n",
    "    return Xn\n",
    "Xn = add_process_noise(X, Q)"
   ]
  },
  {
   "cell_type": "markdown",
   "metadata": {
    "variables": {
     " Math(to_latex(Xn)) ": "$\\displaystyle \\begin{bmatrix}\n-40.06 & -40.34 & -40.82 & -41.14 & -41.57 & -41.92 & -42.39 & -42.81 & -43.16 & -43.59 & -43.96 & -44.40 & -44.67 & -45.22 & -45.65 & -46.03 & -46.35 & -46.79 & -47.25 & -47.59 & -48.02 & -48.32 & -48.74 & -49.19 & -49.63 & -50.02 & -50.40 & -50.80 & -51.22 & -51.60 & -51.90 & -52.45 & -52.91 & -53.17 & -53.63 & -53.93 & -54.36 & -54.77 & -55.13 & -55.64 & -55.98 & -56.35 & -56.83 & -57.24 & -57.59 & -57.98 & -58.40 & -58.77 & -59.14 & -59.53 & -59.93 & -60.48 & -60.72 & -61.18 & -61.57 & -61.93 & -62.39 & -62.83 & -63.18 & -63.64 & -63.95 & -64.46 & -64.82 & -65.11 & -65.58 & -66.04 & -66.37 & -66.84 & -67.19 & -67.63 & -67.99 & -68.43 & -68.81 & -69.21 & -69.66 & -70.03 & -70.33 & -70.74 & -71.28 & -71.59 & -72.00 & -72.36 & -72.72 & -73.19 & -73.53 & -74.02 & -74.41 & -74.77 & -75.22 & -75.58 & -76.09 & -76.45 & -76.79 & -77.21 & -77.71 & -78.05 & -78.45 & -78.82 & -79.24 & -79.61\\\\\n-2.18 & -1.79 & -2.06 & -1.79 & -1.91 & -1.74 & -1.98 & -2.03 & -1.87 & -1.96 & -1.88 & -2.00 & -1.60 & -2.08 & -2.16 & -2.11 & -1.85 & -1.97 & -2.17 & -1.96 & -2.06 & -1.75 & -1.81 & -1.96 & -2.11 & -2.06 & -1.99 & -1.99 & -2.06 & -2.01 & -1.67 & -2.16 & -2.36 & -1.92 & -2.11 & -1.78 & -1.87 & -1.91 & -1.76 & -2.13 & -1.93 & -1.85 & -2.10 & -2.13 & -1.98 & -1.94 & -2.00 & -1.89 & -1.82 & -1.77 & -1.77 & -2.26 & -1.75 & -1.93 & -1.90 & -1.76 & -1.96 & -2.09 & -1.94 & -2.13 & -1.85 & -2.20 & -2.05 & -1.72 & -1.94 & -2.12 & -1.90 & -2.13 & -1.97 & -2.10 & -1.96 & -2.09 & -2.03 & -2.04 & -2.18 & -2.09 & -1.79 & -1.82 & -2.24 & -1.98 & -2.00 & -1.88 & -1.75 & -1.98 & -1.78 & -2.06 & -2.04 & -1.90 & -2.06 & -1.93 & -2.29 & -2.15 & -1.97 & -2.02 & -2.36 & -2.15 & -2.17 & -2.06 & -2.13 & -2.03\\\\\n-0.03 & -0.02 & -0.06 & 0.08 & -0.11 & -0.04 & 0.10 & -0.01 & 0.04 & 0.01 & -0.04 & 0.07 & -0.07 & 0.03 & -0.00 & 0.00 & 0.01 & -0.01 & 0.02 & 0.02 & 0.03 & -0.02 & 0.06 & -0.04 & -0.01 & -0.03 & -0.04 & 0.03 & 0.01 & -0.01 & -0.02 & -0.06 & -0.01 & 0.04 & 0.05 & -0.07 & 0.00 & -0.01 & 0.00 & 0.00 & -0.06 & -0.03 & -0.06 & -0.05 & 0.02 & -0.01 & -0.07 & -0.01 & 0.09 & -0.05 & 0.04 & -0.02 & 0.02 & 0.02 & -0.02 & -0.00 & -0.02 & -0.05 & 0.03 & 0.02 & -0.08 & 0.03 & 0.06 & -0.03 & 0.02 & -0.03 & -0.06 & -0.01 & 0.01 & -0.01 & -0.08 & -0.05 & 0.06 & -0.01 & 0.04 & -0.01 & 0.07 & -0.02 & -0.03 & -0.08 & 0.00 & -0.03 & 0.07 & 0.03 & 0.04 & -0.02 & -0.01 & -0.06 & 0.03 & -0.12 & -0.01 & -0.11 & -0.06 & -0.01 & 0.01 & -0.01 & -0.00 & -0.01 & 0.04 & 0.03\\\\\n-0.10 & -0.07 & -0.19 & 0.25 & -0.33 & -0.14 & 0.30 & -0.03 & 0.13 & 0.04 & -0.12 & 0.22 & -0.24 & 0.10 & -0.00 & 0.01 & 0.03 & -0.03 & 0.05 & 0.06 & 0.08 & -0.07 & 0.20 & -0.12 & -0.03 & -0.08 & -0.13 & 0.10 & 0.03 & -0.03 & -0.05 & -0.19 & -0.05 & 0.13 & 0.15 & -0.23 & 0.01 & -0.04 & 0.01 & 0.01 & -0.19 & -0.09 & -0.20 & -0.14 & 0.07 & -0.03 & -0.21 & -0.03 & 0.27 & -0.15 & 0.12 & -0.06 & 0.06 & 0.05 & -0.08 & -0.00 & -0.05 & -0.16 & 0.10 & 0.07 & -0.24 & 0.11 & 0.17 & -0.10 & 0.07 & -0.11 & -0.18 & -0.03 & 0.04 & -0.02 & -0.25 & -0.14 & 0.18 & -0.02 & 0.13 & -0.04 & 0.22 & -0.06 & -0.08 & -0.25 & 0.00 & -0.09 & 0.21 & 0.09 & 0.12 & -0.07 & -0.02 & -0.18 & 0.08 & -0.39 & -0.05 & -0.36 & -0.19 & -0.02 & 0.04 & -0.03 & -0.00 & -0.03 & 0.14 & 0.11\n\\end{bmatrix}$"
    }
   },
   "source": [
    "### Добавление шума процесса к реальным данным\n",
    "$\n",
    "V = \\begin{bmatrix}\n",
    "    v_{11} & v_{12} & \\cdots & v_{1n} \\\\\n",
    "    v_{21} & v_{22} & \\cdots & v_{2n} \\\\\n",
    "    \\vdots & \\vdots & \\ddots & \\vdots \\\\\n",
    "    v_{m1} & v_{m2} & \\cdots & v_{mn}\n",
    "\\end{bmatrix}\n",
    "\\quad \\text{где} \\quad v_{ij} \\sim N(0, 1)$, пусть матрицы $X$ и $V$ имеют одинаковые размеры\n",
    "<br>\n",
    "<br>\n",
    "$X^{n}=X+\\sqrt{G_{k}Q_{k}G^{T}_{k}}V$ = {{ Math(to_latex(Xn)) }}"
   ]
  },
  {
   "cell_type": "code",
   "execution_count": 6,
   "metadata": {},
   "outputs": [],
   "source": [
    "def make_meas(X, R):\n",
    "    Z = np.zeros((R.shape[0], X.shape[1]))\n",
    "    for i in range(Z.shape[1]):\n",
    "        zz = e.measureModel(np.copy(X[:, i]))\n",
    "        Z[:, i] = zz.flatten()\n",
    "    Zn = Z + np.sqrt(R) @ np.random.normal(loc=0, scale=math.sqrt(1.0), size=(Z.shape[0], Z.shape[1]))\n",
    "    return Zn\n",
    "Zn = make_meas(Xn, R)"
   ]
  },
  {
   "cell_type": "markdown",
   "metadata": {
    "variables": {
     " Math(to_latex(Zn)) ": "$\\displaystyle \\begin{bmatrix}\n-3.15 & -3.13 & -3.11 & 3.13 & -3.14 & -3.14 & 3.15 & -3.14 & 3.13 & 3.13 & -3.14 & 3.14 & -3.15 & 3.14 & -3.14 & 3.16 & 3.17 & -3.16 & 3.15 & 3.15 & 3.14 & -3.16 & 3.14 & -3.15 & -3.15 & -3.13 & -3.14 & 3.15 & 3.15 & -3.15 & -3.14 & -3.13 & -3.15 & 3.16 & 3.15 & -3.14 & 3.14 & -3.14 & 3.15 & 3.14 & -3.14 & -3.12 & -3.13 & -3.13 & 3.14 & -3.14 & -3.14 & -3.14 & 3.15 & -3.12 & 3.16 & -3.14 & 3.13 & 3.13 & -3.16 & -3.16 & -3.14 & -3.15 & 3.14 & 3.12 & -3.14 & 3.13 & 3.13 & -3.14 & 3.14 & -3.13 & -3.13 & -3.17 & 3.14 & -3.14 & -3.14 & -3.15 & 3.15 & -3.15 & 3.14 & -3.14 & 3.15 & -3.15 & -3.13 & -3.15 & 3.14 & -3.14 & 3.15 & 3.14 & 3.13 & -3.13 & -3.14 & -3.13 & 3.13 & -3.15 & -3.15 & -3.15 & -3.14 & -3.14 & 3.14 & -3.13 & -3.13 & -3.13 & 3.14 & 3.15\\\\\n41.72 & 39.62 & 40.84 & 40.19 & 40.86 & 42.21 & 40.83 & 41.57 & 42.01 & 43.50 & 42.89 & 43.98 & 44.68 & 45.41 & 45.39 & 47.46 & 47.02 & 46.69 & 46.07 & 47.54 & 47.34 & 49.39 & 48.64 & 49.60 & 51.14 & 52.09 & 49.86 & 49.30 & 50.77 & 51.93 & 52.94 & 54.09 & 51.63 & 53.92 & 51.09 & 54.65 & 53.88 & 55.45 & 54.00 & 55.99 & 55.02 & 57.68 & 57.38 & 58.05 & 58.44 & 60.02 & 60.07 & 60.09 & 59.60 & 61.35 & 59.81 & 60.37 & 61.81 & 61.56 & 60.81 & 60.59 & 61.82 & 62.67 & 62.29 & 62.26 & 62.71 & 66.42 & 64.68 & 64.43 & 65.09 & 66.80 & 64.61 & 67.55 & 67.77 & 66.70 & 66.75 & 68.49 & 67.50 & 68.69 & 68.30 & 69.43 & 70.39 & 70.15 & 73.06 & 71.04 & 70.74 & 75.23 & 72.39 & 72.98 & 75.71 & 74.63 & 74.43 & 75.26 & 74.41 & 76.31 & 75.13 & 76.17 & 77.82 & 76.27 & 78.24 & 78.55 & 76.84 & 79.49 & 79.10 & 77.36\n\\end{bmatrix}$",
     " Math(to_latex(np.sqrt(Re))) ": {}
    }
   },
   "source": [
    "### Получение измерений\n",
    "С помощью уравнения наблюдения из вектора $X^{n}$ получем требуемы наблюдения и добавим к ним шумы измерения. \n",
    "$\\sqrt{R}=${{ Math(to_latex(np.sqrt(Re))) }}\n",
    "<br>\n",
    "<br>\n",
    "$\n",
    "V = \\begin{bmatrix}\n",
    "    v_{11} & v_{12} & \\cdots & v_{1n} \\\\\n",
    "    v_{21} & v_{22} & \\cdots & v_{2n} \\\\\n",
    "    \\vdots & \\vdots & \\ddots & \\vdots \\\\\n",
    "    v_{m1} & v_{m2} & \\cdots & v_{mn}\n",
    "\\end{bmatrix}\n",
    "\\quad \\text{где} \\quad v_{ij} \\sim N(0, 1)$, где матрицы $Z$ и $V$ имеют одинаковые размеры\n",
    "<br>\n",
    "<br>\n",
    "$Z=measureModel(X^{n})+\\sqrt{R}V$ = {{ Math(to_latex(Zn)) }}"
   ]
  },
  {
   "cell_type": "markdown",
   "metadata": {},
   "source": [
    "## Инициализация фильтра Калмана"
   ]
  },
  {
   "cell_type": "code",
   "execution_count": 7,
   "metadata": {},
   "outputs": [],
   "source": [
    "def rot_z(a):\n",
    "    a = np.deg2rad(a)\n",
    "    R = np.eye(3)\n",
    "    ca = np.cos(a)\n",
    "    sa = np.sin(a)\n",
    "    R[0,0] = ca\n",
    "    R[0,1] = -sa\n",
    "    R[1,0] = sa\n",
    "    R[1,1] = ca\n",
    "    return R\n",
    "\n",
    "def rot_y(a):\n",
    "    a = np.deg2rad(a)\n",
    "    R = np.eye(3,3)\n",
    "    ca = np.cos(a)\n",
    "    sa = np.sin(a)\n",
    "    R[0,0] = ca\n",
    "    R[0,2] = sa\n",
    "    R[2,0] = -sa\n",
    "    R[2,2] = ca\n",
    "    return R"
   ]
  },
  {
   "cell_type": "code",
   "execution_count": 8,
   "metadata": {},
   "outputs": [],
   "source": [
    "def sph2cart(measurement):\n",
    "    cart = np.zeros(measurement.shape)\n",
    "    for i in range(measurement.shape[1]):\n",
    "        cart[0, i] = measurement[1, i] * math.cos(measurement[0, i])\n",
    "        cart[1, i] = measurement[1, i] * math.sin(measurement[0, i])\n",
    "    return cart\n",
    "\n",
    "cart = sph2cart(Zn)\n",
    "\n",
    "def sph2cartcov(sphCov, az, el, r):\n",
    "    pa = 0\n",
    "    pe = 1\n",
    "    pr = 2\n",
    "    pvr= 3\n",
    "\n",
    "    azSig  = np.sqrt(sphCov[pa, pa])\n",
    "    elSig  = np.sqrt(sphCov[pe, pe])\n",
    "    rngSig = np.sqrt(sphCov[pr, pr])\n",
    "    #-----------------------------------------------------------------------------\n",
    "    #[1]\n",
    "    Rpos = np.diag([np.power(rngSig,2.0),\n",
    "                    np.power(r*np.cos(np.deg2rad(el))*np.deg2rad(azSig), 2.0),\n",
    "                    np.power(r*np.deg2rad(elSig), 2.0)])\n",
    "    #-----------------------------------------------------------------------------\n",
    "    #[2]\n",
    "    rot = rot_z(az)@rot_y(el).T\n",
    "    posCov = rot@Rpos@rot.T\n",
    "    #-----------------------------------------------------------------------------\n",
    "    #[3] - velCov\n",
    "    if sphCov.shape==(4, 4):\n",
    "        rrSig = np.sqrt(sphCov[pvr, pvr])\n",
    "        crossVelSig = 10\n",
    "        Rvel = np.diag([np.power(rrSig, 2.0), np.power(crossVelSig, 2.0), np.power(crossVelSig, 2.0)]);\n",
    "        velCov = rot@Rvel@rot.T\n",
    "    else:\n",
    "        velCov = 100*np.eye(3)\n",
    "    #-----------------------------------------------------------------------------\n",
    "        \n",
    "    print(\"posCov:\")\n",
    "    print(posCov)\n",
    "    print(\"velCov:\")\n",
    "    print(velCov)\n",
    "    return posCov, velCov\n",
    "\n",
    "\n",
    "def make_cartcov(meas, covMeas):\n",
    "    print(\"+++ make_cartcov +++\")\n",
    "    print(\"meas\")\n",
    "    print(meas)\n",
    "    print(\"covMeas\")\n",
    "    print(covMeas)\n",
    "    az = np.rad2deg(meas[0,0])\n",
    "    el = 0\n",
    "    r  = meas[1,0]\n",
    "    sphCov = np.diag([covMeas[0,0], 0, covMeas[1,1]])#?\n",
    "    print(\"sphCov\")\n",
    "    print(sphCov)\n",
    "    [posCov, velCov] = sph2cartcov(sphCov, az, el, r)\n",
    "    print(\"posCov-1\")\n",
    "    print(posCov)\n",
    "    print(\"velCov-1\")\n",
    "    print(velCov)\n",
    "    posCov = posCov[0:2,0:2]\n",
    "    velCov = velCov[0:2,0:2]\n",
    "    print(\"posCov-2\")\n",
    "    print(posCov)\n",
    "    print(\"velCov-2\")\n",
    "    print(velCov)\n",
    "    Hp = np.array([[1, 0, 0, 0],\n",
    "                   [0, 0, 1, 0]])\n",
    "    Hv = np.array([[0, 1, 0, 0],\n",
    "                   [0, 0, 0, 1]])\n",
    "    return Hp.T@posCov@Hp + Hv.T@velCov@Hv\n",
    "\n",
    "\n",
    "def make_kalman_filter(measurement):\n",
    "    Hp = np.array([[1, 0, 0, 0],\n",
    "                   [0, 0, 1, 0]])\n",
    "    x0 = sph2cart(measurement)\n",
    "    x0 = Hp.T@x0\n",
    "    P0  = make_cartcov(measurement, R)\n",
    "    print(\"P0:\")\n",
    "    print(P0)\n",
    "    kf = e.Ekf(x0, P0, Q, R)\n",
    "    return kf"
   ]
  },
  {
   "cell_type": "markdown",
   "metadata": {
    "variables": {
     " Math(to_latex( Hcc )) ": "$\\displaystyle \\begin{bmatrix}\n1.00 & 0.00 & 0.00 & 0.00\\\\\n0.00 & 0.00 & 1.00 & 0.00\n\\end{bmatrix}$",
     " Math(to_latex( Hvv )) ": "$\\displaystyle \\begin{bmatrix}\n0.00 & 1.00 & 0.00 & 0.00\\\\\n0.00 & 0.00 & 0.00 & 1.00\n\\end{bmatrix}$",
     " Math(to_latex( Mz )) ": "$\\displaystyle \\begin{bmatrix}\n\\cos(a) & 0\\\\\n0 & 1\n\\end{bmatrix}$",
     " Math(to_latex( Pvel )) ": "$\\displaystyle \\begin{bmatrix}\n100 & 0\\\\\n0 & 100\n\\end{bmatrix}$",
     " Math(to_latex( Rpos )) ": "$\\displaystyle \\begin{bmatrix}\n\\sqrt{D_{r}} & 0\\\\\n0 & r\\sqrt{D_{ \\alpha}}\n\\end{bmatrix}$",
     " Math(to_latex( x00 )) ": "$\\displaystyle \\begin{bmatrix}\nr \\cdot cos(\\alpha)\\\\\n0\\\\\nr \\cdot sin(\\alpha)\\\\\n0\n\\end{bmatrix}$"
    }
   },
   "source": [
    "Получить ковариационную матрицу ошибок декартовых координат из полярной можно получить как:\n",
    "<p style=\"text-align: center;\"> $P^{c}_{0|0}=M_z(\\alpha)R_{pos}M_z(\\alpha)^{T}$\n",
    "\n",
    "Где $M_z(\\alpha)$ - матрица поворота. Подробно [матрицы поворота](https://ru.wikipedia.org/wiki/%D0%9C%D0%B0%D1%82%D1%80%D0%B8%D1%86%D0%B0_%D0%BF%D0%BE%D0%B2%D0%BE%D1%80%D0%BE%D1%82%D0%B0):\n",
    "\n",
    "<p style=\"text-align: center;\"> $M_z(\\alpha)$={{ Math(to_latex( Mz )) }}<br>\n",
    "\n",
    "Матица $R_{pos}$ задаётся как:\n",
    "<p style=\"text-align: center;\"> $R_{pos}$={{ Math(to_latex( Rpos )) }}<br>\n",
    "\n",
    "Где $\\alpha$ - азимут цели, $r$ - дальность цели, $D_{\\alpha}$ - дисперсия ошибок измерения по азимту, $D_{r}$ - дисперсия ошибок по дальности.\n",
    "    \n",
    "Ковариационную матрицу ошибок проекций скорости зададим как:\n",
    "<p style=\"text-align: center;\"> $P^{v}_{0|0}$={{ Math(to_latex( Pvel )) }}<br>\n",
    "\n",
    "Ковариционную матрицу ошибок будем задавать как:\n",
    "<p style=\"text-align: center;\"> $P_{0|0}$=$H_{с}P^{с}_{0|0}H_{с}^{T}+H_{v}P^{v}_{0|0}H_{v}^{T}$<br>\n",
    "\n",
    "Где матрицы\n",
    "<p style=\"text-align: center;\"> $H_{c}$={{ Math(to_latex( Hcc )) }}<br><br>\n",
    "<p style=\"text-align: center;\"> $H_{v}$={{ Math(to_latex( Hvv )) }}<br><br>\n",
    "    \n",
    "Начальный вектор оценок зададим как: \n",
    "<p style=\"text-align: center;\"> $x_{0|0}$={{ Math(to_latex( x00 )) }} <br><br>\n",
    "    "
   ]
  },
  {
   "cell_type": "markdown",
   "metadata": {},
   "source": [
    "### Построение графиков оценки по одной реализации"
   ]
  },
  {
   "cell_type": "code",
   "execution_count": 9,
   "metadata": {},
   "outputs": [
    {
     "name": "stdout",
     "output_type": "stream",
     "text": [
      "+++ make_cartcov +++\n",
      "meas\n",
      "[[-3.14896401]\n",
      " [41.72428159]]\n",
      "covMeas\n",
      "[[1.e-04 0.e+00]\n",
      " [0.e+00 1.e+00]]\n",
      "sphCov\n",
      "[[1.e-04 0.e+00 0.e+00]\n",
      " [0.e+00 0.e+00 0.e+00]\n",
      " [0.e+00 0.e+00 1.e+00]]\n",
      "posCov:\n",
      "[[ 9.99945667e-01 -7.37069822e-03  0.00000000e+00]\n",
      " [-7.37069822e-03  1.07364350e-04  0.00000000e+00]\n",
      " [ 0.00000000e+00  0.00000000e+00  0.00000000e+00]]\n",
      "velCov:\n",
      "[[100.   0.   0.]\n",
      " [  0. 100.   0.]\n",
      " [  0.   0. 100.]]\n",
      "posCov-1\n",
      "[[ 9.99945667e-01 -7.37069822e-03  0.00000000e+00]\n",
      " [-7.37069822e-03  1.07364350e-04  0.00000000e+00]\n",
      " [ 0.00000000e+00  0.00000000e+00  0.00000000e+00]]\n",
      "velCov-1\n",
      "[[100.   0.   0.]\n",
      " [  0. 100.   0.]\n",
      " [  0.   0. 100.]]\n",
      "posCov-2\n",
      "[[ 9.99945667e-01 -7.37069822e-03]\n",
      " [-7.37069822e-03  1.07364350e-04]]\n",
      "velCov-2\n",
      "[[100.   0.]\n",
      " [  0. 100.]]\n",
      "P0:\n",
      "[[ 9.99945667e-01  0.00000000e+00 -7.37069822e-03  0.00000000e+00]\n",
      " [ 0.00000000e+00  1.00000000e+02  0.00000000e+00  0.00000000e+00]\n",
      " [-7.37069822e-03  0.00000000e+00  1.07364350e-04  0.00000000e+00]\n",
      " [ 0.00000000e+00  0.00000000e+00  0.00000000e+00  1.00000000e+02]]\n"
     ]
    },
    {
     "data": {
      "image/png": "[encoded data removed]",
      "text/plain": [
       "<Figure size 640x480 with 1 Axes>"
      ]
     },
     "metadata": {},
     "output_type": "display_data"
    }
   ],
   "source": [
    "def step(Z, make_estimator):\n",
    "    estimator = make_estimator(Z[:, 0][:, np.newaxis])\n",
    "    est = np.zeros((initialState.shape[0], Z.shape[1]-1))\n",
    "\n",
    "    for col in range(est.shape[1]):\n",
    "        z = Z[:, col + 1]\n",
    "        xp, _ = estimator.predictStateModel(T)\n",
    "        m1 = np.array([z[0], z[1]])\n",
    "        xc, _ = estimator.correctMeasureModel(m1.T)\n",
    "        est[:, col] = np.squeeze(xc[:])\n",
    "\n",
    "    return est\n",
    "\n",
    "est=step(Zn, make_kalman_filter)\n",
    "\n",
    "plt.figure()\n",
    "plt.plot(Xn[0, :], Xn[2, :], label='Truth')\n",
    "plt.plot(cart[0, :], cart[1, :], label='Measurements', linestyle='', marker='+')\n",
    "plt.plot(est[0, :], est[2, :], label='Estimates')\n",
    "plt.xlabel('x,met.')\n",
    "plt.ylabel('y,met.')\n",
    "plt.grid(True)\n",
    "plt.legend()\n",
    "plt.show()"
   ]
  },
  {
   "cell_type": "markdown",
   "metadata": {},
   "source": [
    "### Сбор статистики по наботу экспериментов"
   ]
  },
  {
   "cell_type": "code",
   "execution_count": 10,
   "metadata": {},
   "outputs": [],
   "source": [
    "# def calc_err(X, make_estimator):\n",
    "#     Xn = add_process_noise(X, Q)\n",
    "#     Zn = make_meas(Xn, R)\n",
    "#     est = step(Zn, make_estimator)\n",
    "#     err = est - Xn[:, 1:]\n",
    "#     return err\n",
    "\n",
    "# from tqdm import tqdm\n",
    "\n",
    "# def calc_std_err(X, make_estimator):\n",
    "#     num_iterations = 2000\n",
    "#     var_err = np.zeros((X.shape[0], X.shape[1]-1))\n",
    "\n",
    "#     for i in tqdm(range(num_iterations)):\n",
    "#         err = calc_err(X, make_estimator)\n",
    "#         var_err += err ** 2\n",
    "\n",
    "#     var_err /= num_iterations\n",
    "#     return np.sqrt(var_err)\n",
    "\n",
    "# std_err = calc_std_err(X, make_kalman_filter)\n",
    "\n",
    "# plt.figure()\n",
    "# plt.subplot(4, 1, 1)\n",
    "# plt.plot((np.arange(len(std_err[0, :]))+1)*T, std_err[0, :].T)\n",
    "# plt.xlabel('Time,s')\n",
    "# plt.ylabel('std_x, met')\n",
    "# plt.grid(True)\n",
    "# plt.subplot(4, 1, 2)\n",
    "# plt.plot((np.arange(len(std_err[1, :]))+1)*T, std_err[1, :].T)\n",
    "# plt.grid(True)\n",
    "# plt.xlabel('Time,s')\n",
    "# plt.ylabel('std_vx, m/s')\n",
    "# plt.subplot(4, 1, 3)\n",
    "# plt.plot((np.arange(len(std_err[2, :]))+1)*T, std_err[2, :].T)\n",
    "# plt.grid(True)\n",
    "# plt.xlabel('Time,s')\n",
    "# plt.ylabel('std_y, met')\n",
    "# plt.subplot(4, 1, 4)\n",
    "# plt.plot((np.arange(len(std_err[3, :]))+1)*T, std_err[3, :].T)\n",
    "# plt.grid(True)\n",
    "# plt.xlabel('Time,s')\n",
    "# plt.ylabel('std_vy, m/s')\n",
    "# plt.subplots_adjust(wspace=8.0, hspace=0.7)\n",
    "# plt.show()"
   ]
  }
 ],
 "metadata": {
  "hide_input": false,
  "kernelspec": {
   "display_name": "Python 3 (ipykernel)",
   "language": "python",
   "name": "python3"
  },
  "language_info": {
   "codemirror_mode": {
    "name": "ipython",
    "version": 3
   },
   "file_extension": ".py",
   "mimetype": "text/x-python",
   "name": "python",
   "nbconvert_exporter": "python",
   "pygments_lexer": "ipython3",
   "version": "3.10.12"
  },
  "vscode": {
   "interpreter": {
    "hash": "e7370f93d1d0cde622a1f8e1c04877d8463912d04d973331ad4851f04de6915a"
   }
  }
 },
 "nbformat": 4,
 "nbformat_minor": 4
}
